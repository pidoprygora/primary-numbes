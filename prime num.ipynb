{
 "cells": [
  {
   "cell_type": "code",
   "execution_count": 1,
   "id": "4521d99a-27ca-49e6-9a43-efce34f05031",
   "metadata": {},
   "outputs": [
    {
     "name": "stdout",
     "output_type": "stream",
     "text": [
      "2 4 6 8 10 12 14 16 18 20 "
     ]
    }
   ],
   "source": [
    "for loop in range(1,11):\n",
    "    print(loop*2, end=\" \")"
   ]
  },
  {
   "cell_type": "code",
   "execution_count": 5,
   "id": "a2f6e3c8-9095-46f1-9b14-f16ba494e6de",
   "metadata": {},
   "outputs": [
    {
     "name": "stdout",
     "output_type": "stream",
     "text": [
      "1 Even 3 Even 5 Even 7 Even 9 Even 11 Even 13 Even 15 Even 17 Even 19 Even 21 Even 23 Even 25 Even 27 Even 29 Even "
     ]
    }
   ],
   "source": [
    "for item in range(1,31):\n",
    "    if item%2==1:\n",
    "        print(item, end =\" \")\n",
    "    else:\n",
    "        print(\"Even\", end =\" \")"
   ]
  },
  {
   "cell_type": "code",
   "execution_count": 15,
   "id": "fb7c66a6-d404-45bc-9528-4c7e2c581dae",
   "metadata": {},
   "outputs": [
    {
     "name": "stdout",
     "output_type": "stream",
     "text": [
      "10 20 30 40 50 60 "
     ]
    }
   ],
   "source": [
    "n = [1,2,3,4,5,6]\n",
    "for item in n:\n",
    "    print(item*10, end=\" \")"
   ]
  },
  {
   "cell_type": "code",
   "execution_count": 117,
   "id": "a1e4ed57-aaf7-4ae6-90af-2609e9db8566",
   "metadata": {},
   "outputs": [],
   "source": [
    "def is_prime(n):\n",
    "    if n==1:\n",
    "        return False\n",
    "    if n==2:\n",
    "        return True\n",
    "    elif n%2==0:\n",
    "        return False\n",
    "    for x in range(3, n, 2):\n",
    "        if n%x == 0:\n",
    "            return False \n",
    "    return True\n",
    "   "
   ]
  },
  {
   "cell_type": "code",
   "execution_count": 135,
   "id": "35d303d1-dd92-4499-9b26-235bd6758cd1",
   "metadata": {},
   "outputs": [
    {
     "data": {
      "text/plain": [
       "True"
      ]
     },
     "execution_count": 135,
     "metadata": {},
     "output_type": "execute_result"
    }
   ],
   "source": [
    "is_prime(313)"
   ]
  },
  {
   "cell_type": "code",
   "execution_count": 125,
   "id": "a2ddafd2-ba91-4e24-a1fd-476c8158c5eb",
   "metadata": {},
   "outputs": [],
   "source": [
    "def count(a, b):\n",
    "    i=0\n",
    "    for x in range(a, b):\n",
    "        if is_prime(x)==True:\n",
    "            i=i+1\n",
    "    print(i)"
   ]
  },
  {
   "cell_type": "code",
   "execution_count": 137,
   "id": "8d19154a-3d5b-4dee-b932-eaab0d6823ac",
   "metadata": {},
   "outputs": [
    {
     "data": {
      "text/plain": [
       "str"
      ]
     },
     "execution_count": 137,
     "metadata": {},
     "output_type": "execute_result"
    }
   ],
   "source": [
    "h = 'h'\n",
    "h\n",
    "type(h)"
   ]
  },
  {
   "cell_type": "code",
   "execution_count": 143,
   "id": "896ee24a-939c-4e20-a40a-b90b6ed2b2f4",
   "metadata": {},
   "outputs": [
    {
     "name": "stdout",
     "output_type": "stream",
     "text": [
      "Josh is age\n"
     ]
    }
   ],
   "source": [
    "age = 27\n",
    "print('Josh is ' + 'age') \n"
   ]
  },
  {
   "cell_type": "code",
   "execution_count": 2,
   "id": "66405ed1-bee9-4106-b427-73e869b1d4b5",
   "metadata": {},
   "outputs": [
    {
     "ename": "SyntaxError",
     "evalue": "invalid syntax (80235211.py, line 1)",
     "output_type": "error",
     "traceback": [
      "\u001b[1;36m  Cell \u001b[1;32mIn[2], line 1\u001b[1;36m\u001b[0m\n\u001b[1;33m    echo \"# primary-numbes\" >> README.md\u001b[0m\n\u001b[1;37m         ^\u001b[0m\n\u001b[1;31mSyntaxError\u001b[0m\u001b[1;31m:\u001b[0m invalid syntax\n"
     ]
    }
   ],
   "source": [
    "echo \"# primary-numbes\" >> README.md\n",
    "git init\n",
    "git add README.md\n",
    "git commit -m \"first commit\"\n",
    "git branch -M main\n",
    "git remote add origin git@github.com:pidoprygora/primary-numbes.git\n",
    "git push -u origin main"
   ]
  }
 ],
 "metadata": {
  "kernelspec": {
   "display_name": "Python 3 (ipykernel)",
   "language": "python",
   "name": "python3"
  },
  "language_info": {
   "codemirror_mode": {
    "name": "ipython",
    "version": 3
   },
   "file_extension": ".py",
   "mimetype": "text/x-python",
   "name": "python",
   "nbconvert_exporter": "python",
   "pygments_lexer": "ipython3",
   "version": "3.12.4"
  }
 },
 "nbformat": 4,
 "nbformat_minor": 5
}
